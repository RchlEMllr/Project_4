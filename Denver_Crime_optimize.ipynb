{
 "cells": [
  {
   "cell_type": "code",
   "execution_count": 50,
   "id": "44a84415",
   "metadata": {},
   "outputs": [],
   "source": [
    "# Import the modules\n",
    "import pandas as pd\n",
    "from sklearn.compose import ColumnTransformer\n",
    "from sklearn.preprocessing import LabelEncoder\n",
    "\n",
    "from sklearn.preprocessing import OneHotEncoder\n",
    "from sklearn.model_selection import train_test_split\n",
    "from sklearn.linear_model import LinearRegression\n",
    "from sklearn.cluster import KMeans\n",
    "import pandas as pd\n",
    "from sklearn.cluster import KMeans\n",
    "import matplotlib.pyplot as plt\n",
    "import seaborn as sns\n",
    "from pathlib import Path\n",
    "from sklearn.preprocessing import StandardScaler,OneHotEncoder\n",
    "import tensorflow as tf\n",
    "from sklearn.model_selection import train_test_split, GridSearchCV\n",
    "from sklearn.ensemble import RandomForestClassifier\n",
    "from sklearn.metrics import classification_report, confusion_matrix, matthews_corrcoef, cohen_kappa_score\n",
    "from imblearn.combine import SMOTETomek\n",
    "from sklearn.preprocessing import OneHotEncoder\n",
    "from sklearn.compose import ColumnTransformer\n",
    "from sklearn.pipeline import Pipeline\n",
    "from imblearn.over_sampling import SMOTE"
   ]
  },
  {
   "cell_type": "code",
   "execution_count": 51,
   "id": "e6f2eb77",
   "metadata": {},
   "outputs": [],
   "source": [
    "import pandas as pd\n",
    "from sklearn.model_selection import train_test_split\n",
    "from sklearn.linear_model import LogisticRegression\n",
    "from sklearn.metrics import accuracy_score, confusion_matrix, classification_report"
   ]
  },
  {
   "cell_type": "code",
   "execution_count": 52,
   "id": "2d5dcde9",
   "metadata": {
    "scrolled": true
   },
   "outputs": [
    {
     "data": {
      "text/html": [
       "<div>\n",
       "<style scoped>\n",
       "    .dataframe tbody tr th:only-of-type {\n",
       "        vertical-align: middle;\n",
       "    }\n",
       "\n",
       "    .dataframe tbody tr th {\n",
       "        vertical-align: top;\n",
       "    }\n",
       "\n",
       "    .dataframe thead th {\n",
       "        text-align: right;\n",
       "    }\n",
       "</style>\n",
       "<table border=\"1\" class=\"dataframe\">\n",
       "  <thead>\n",
       "    <tr style=\"text-align: right;\">\n",
       "      <th></th>\n",
       "      <th>offense_code</th>\n",
       "      <th>offense_code_extension</th>\n",
       "      <th>offense_type_id</th>\n",
       "      <th>offense_category_id</th>\n",
       "      <th>reported_date</th>\n",
       "      <th>incident_address</th>\n",
       "      <th>geo_lon</th>\n",
       "      <th>geo_lat</th>\n",
       "      <th>district_id</th>\n",
       "      <th>precinct_id</th>\n",
       "      <th>neighborhood_id</th>\n",
       "      <th>victim_count</th>\n",
       "      <th>offense_type_name</th>\n",
       "      <th>murders</th>\n",
       "    </tr>\n",
       "  </thead>\n",
       "  <tbody>\n",
       "    <tr>\n",
       "      <th>0</th>\n",
       "      <td>2999</td>\n",
       "      <td>0</td>\n",
       "      <td>criminal-mischief-other</td>\n",
       "      <td>public-disorder</td>\n",
       "      <td>2/10/2022 3:16:00 AM</td>\n",
       "      <td>1107 N SANTA FE DR</td>\n",
       "      <td>-104.998910</td>\n",
       "      <td>39.733957</td>\n",
       "      <td>1</td>\n",
       "      <td>123.0</td>\n",
       "      <td>lincoln-park</td>\n",
       "      <td>1.0</td>\n",
       "      <td>Criminal mischief - other</td>\n",
       "      <td>0</td>\n",
       "    </tr>\n",
       "    <tr>\n",
       "      <th>1</th>\n",
       "      <td>2999</td>\n",
       "      <td>0</td>\n",
       "      <td>criminal-mischief-other</td>\n",
       "      <td>public-disorder</td>\n",
       "      <td>7/8/2021 12:55:00 AM</td>\n",
       "      <td>815 16TH ST</td>\n",
       "      <td>-104.993342</td>\n",
       "      <td>39.746248</td>\n",
       "      <td>6</td>\n",
       "      <td>611.0</td>\n",
       "      <td>cbd</td>\n",
       "      <td>1.0</td>\n",
       "      <td>Criminal mischief - other</td>\n",
       "      <td>0</td>\n",
       "    </tr>\n",
       "    <tr>\n",
       "      <th>2</th>\n",
       "      <td>2999</td>\n",
       "      <td>0</td>\n",
       "      <td>criminal-mischief-other</td>\n",
       "      <td>public-disorder</td>\n",
       "      <td>10/29/2020 4:31:00 AM</td>\n",
       "      <td>4745 N FEDERAL BLVD</td>\n",
       "      <td>-105.025520</td>\n",
       "      <td>39.782888</td>\n",
       "      <td>1</td>\n",
       "      <td>111.0</td>\n",
       "      <td>berkeley</td>\n",
       "      <td>1.0</td>\n",
       "      <td>Criminal mischief - other</td>\n",
       "      <td>0</td>\n",
       "    </tr>\n",
       "    <tr>\n",
       "      <th>3</th>\n",
       "      <td>2999</td>\n",
       "      <td>0</td>\n",
       "      <td>criminal-mischief-other</td>\n",
       "      <td>public-disorder</td>\n",
       "      <td>9/7/2018 9:58:00 AM</td>\n",
       "      <td>65 S FEDERAL BLVD</td>\n",
       "      <td>-105.025330</td>\n",
       "      <td>39.715357</td>\n",
       "      <td>4</td>\n",
       "      <td>411.0</td>\n",
       "      <td>barnum</td>\n",
       "      <td>1.0</td>\n",
       "      <td>Criminal mischief - other</td>\n",
       "      <td>0</td>\n",
       "    </tr>\n",
       "    <tr>\n",
       "      <th>4</th>\n",
       "      <td>2999</td>\n",
       "      <td>0</td>\n",
       "      <td>criminal-mischief-other</td>\n",
       "      <td>public-disorder</td>\n",
       "      <td>5/13/2020 10:00:00 AM</td>\n",
       "      <td>12295 E ALBROOK DR</td>\n",
       "      <td>-104.845074</td>\n",
       "      <td>39.783082</td>\n",
       "      <td>5</td>\n",
       "      <td>521.0</td>\n",
       "      <td>montbello</td>\n",
       "      <td>1.0</td>\n",
       "      <td>Criminal mischief - other</td>\n",
       "      <td>0</td>\n",
       "    </tr>\n",
       "  </tbody>\n",
       "</table>\n",
       "</div>"
      ],
      "text/plain": [
       "   offense_code  offense_code_extension          offense_type_id  \\\n",
       "0          2999                       0  criminal-mischief-other   \n",
       "1          2999                       0  criminal-mischief-other   \n",
       "2          2999                       0  criminal-mischief-other   \n",
       "3          2999                       0  criminal-mischief-other   \n",
       "4          2999                       0  criminal-mischief-other   \n",
       "\n",
       "  offense_category_id          reported_date     incident_address     geo_lon  \\\n",
       "0     public-disorder   2/10/2022 3:16:00 AM   1107 N SANTA FE DR -104.998910   \n",
       "1     public-disorder   7/8/2021 12:55:00 AM          815 16TH ST -104.993342   \n",
       "2     public-disorder  10/29/2020 4:31:00 AM  4745 N FEDERAL BLVD -105.025520   \n",
       "3     public-disorder    9/7/2018 9:58:00 AM    65 S FEDERAL BLVD -105.025330   \n",
       "4     public-disorder  5/13/2020 10:00:00 AM   12295 E ALBROOK DR -104.845074   \n",
       "\n",
       "     geo_lat district_id  precinct_id neighborhood_id  victim_count  \\\n",
       "0  39.733957           1        123.0    lincoln-park           1.0   \n",
       "1  39.746248           6        611.0             cbd           1.0   \n",
       "2  39.782888           1        111.0        berkeley           1.0   \n",
       "3  39.715357           4        411.0          barnum           1.0   \n",
       "4  39.783082           5        521.0       montbello           1.0   \n",
       "\n",
       "           offense_type_name  murders  \n",
       "0  Criminal mischief - other        0  \n",
       "1  Criminal mischief - other        0  \n",
       "2  Criminal mischief - other        0  \n",
       "3  Criminal mischief - other        0  \n",
       "4  Criminal mischief - other        0  "
      ]
     },
     "execution_count": 52,
     "metadata": {},
     "output_type": "execute_result"
    }
   ],
   "source": [
    "# Read the csv file into a pandas DataFrame\n",
    "murder_target = pd.read_csv(\n",
    "    Path(\"../Crime/murder_target.csv\"), encoding='iso-8859-1'\n",
    ")\n",
    "\n",
    "# Review the DataFrame\n",
    "murder_target.head()"
   ]
  },
  {
   "cell_type": "code",
   "execution_count": 53,
   "id": "ff028b39",
   "metadata": {},
   "outputs": [
    {
     "data": {
      "text/plain": [
       "Index(['offense_code', 'offense_code_extension', 'offense_type_id',\n",
       "       'offense_category_id', 'reported_date', 'incident_address', 'geo_lon',\n",
       "       'geo_lat', 'district_id', 'precinct_id', 'neighborhood_id',\n",
       "       'victim_count', 'offense_type_name', 'murders'],\n",
       "      dtype='object')"
      ]
     },
     "execution_count": 53,
     "metadata": {},
     "output_type": "execute_result"
    }
   ],
   "source": [
    "murder_target.columns"
   ]
  },
  {
   "cell_type": "code",
   "execution_count": 54,
   "id": "d8871f58",
   "metadata": {},
   "outputs": [
    {
     "name": "stdout",
     "output_type": "stream",
     "text": [
      "<class 'pandas.core.frame.DataFrame'>\n",
      "RangeIndex: 386978 entries, 0 to 386977\n",
      "Data columns (total 14 columns):\n",
      " #   Column                  Non-Null Count   Dtype  \n",
      "---  ------                  --------------   -----  \n",
      " 0   offense_code            386978 non-null  int64  \n",
      " 1   offense_code_extension  386978 non-null  int64  \n",
      " 2   offense_type_id         386978 non-null  object \n",
      " 3   offense_category_id     386978 non-null  object \n",
      " 4   reported_date           386865 non-null  object \n",
      " 5   incident_address        371362 non-null  object \n",
      " 6   geo_lon                 371096 non-null  float64\n",
      " 7   geo_lat                 371096 non-null  float64\n",
      " 8   district_id             386808 non-null  object \n",
      " 9   precinct_id             386865 non-null  float64\n",
      " 10  neighborhood_id         386176 non-null  object \n",
      " 11  victim_count            386865 non-null  float64\n",
      " 12  offense_type_name       386978 non-null  object \n",
      " 13  murders                 386978 non-null  int64  \n",
      "dtypes: float64(4), int64(3), object(7)\n",
      "memory usage: 41.3+ MB\n"
     ]
    }
   ],
   "source": [
    "murder_target.info()"
   ]
  },
  {
   "cell_type": "code",
   "execution_count": 55,
   "id": "e071361a",
   "metadata": {},
   "outputs": [],
   "source": [
    "# Handle missing values\n",
    "murder_target = murder_target.dropna(subset=['district_id', 'murders'])  # Drop rows where district_id or murders is NaN\n",
    "\n",
    "# Convert 'district_id' to numerical if necessary\n",
    "murder_target['district_id'] = pd.to_numeric(murder_target['district_id'], errors='coerce')"
   ]
  },
  {
   "cell_type": "code",
   "execution_count": 56,
   "id": "3cbfa29f",
   "metadata": {},
   "outputs": [],
   "source": [
    "# Drop rows where 'district_id' could not be converted to numeric\n",
    "murder_target = murder_target.dropna(subset=['district_id'])\n"
   ]
  },
  {
   "cell_type": "code",
   "execution_count": 57,
   "id": "8853e57e",
   "metadata": {},
   "outputs": [],
   "source": [
    "# Convert 'district_id' to integer\n",
    "murder_target['district_id'] = murder_target['district_id'].astype(int)\n",
    "\n",
    "# Ensure 'murders' is integer\n",
    "murder_target['murders'] = murder_target['murders'].astype(int)"
   ]
  },
  {
   "cell_type": "code",
   "execution_count": 58,
   "id": "6a968cf3",
   "metadata": {},
   "outputs": [
    {
     "data": {
      "text/html": [
       "<style>#sk-container-id-3 {color: black;}#sk-container-id-3 pre{padding: 0;}#sk-container-id-3 div.sk-toggleable {background-color: white;}#sk-container-id-3 label.sk-toggleable__label {cursor: pointer;display: block;width: 100%;margin-bottom: 0;padding: 0.3em;box-sizing: border-box;text-align: center;}#sk-container-id-3 label.sk-toggleable__label-arrow:before {content: \"▸\";float: left;margin-right: 0.25em;color: #696969;}#sk-container-id-3 label.sk-toggleable__label-arrow:hover:before {color: black;}#sk-container-id-3 div.sk-estimator:hover label.sk-toggleable__label-arrow:before {color: black;}#sk-container-id-3 div.sk-toggleable__content {max-height: 0;max-width: 0;overflow: hidden;text-align: left;background-color: #f0f8ff;}#sk-container-id-3 div.sk-toggleable__content pre {margin: 0.2em;color: black;border-radius: 0.25em;background-color: #f0f8ff;}#sk-container-id-3 input.sk-toggleable__control:checked~div.sk-toggleable__content {max-height: 200px;max-width: 100%;overflow: auto;}#sk-container-id-3 input.sk-toggleable__control:checked~label.sk-toggleable__label-arrow:before {content: \"▾\";}#sk-container-id-3 div.sk-estimator input.sk-toggleable__control:checked~label.sk-toggleable__label {background-color: #d4ebff;}#sk-container-id-3 div.sk-label input.sk-toggleable__control:checked~label.sk-toggleable__label {background-color: #d4ebff;}#sk-container-id-3 input.sk-hidden--visually {border: 0;clip: rect(1px 1px 1px 1px);clip: rect(1px, 1px, 1px, 1px);height: 1px;margin: -1px;overflow: hidden;padding: 0;position: absolute;width: 1px;}#sk-container-id-3 div.sk-estimator {font-family: monospace;background-color: #f0f8ff;border: 1px dotted black;border-radius: 0.25em;box-sizing: border-box;margin-bottom: 0.5em;}#sk-container-id-3 div.sk-estimator:hover {background-color: #d4ebff;}#sk-container-id-3 div.sk-parallel-item::after {content: \"\";width: 100%;border-bottom: 1px solid gray;flex-grow: 1;}#sk-container-id-3 div.sk-label:hover label.sk-toggleable__label {background-color: #d4ebff;}#sk-container-id-3 div.sk-serial::before {content: \"\";position: absolute;border-left: 1px solid gray;box-sizing: border-box;top: 0;bottom: 0;left: 50%;z-index: 0;}#sk-container-id-3 div.sk-serial {display: flex;flex-direction: column;align-items: center;background-color: white;padding-right: 0.2em;padding-left: 0.2em;position: relative;}#sk-container-id-3 div.sk-item {position: relative;z-index: 1;}#sk-container-id-3 div.sk-parallel {display: flex;align-items: stretch;justify-content: center;background-color: white;position: relative;}#sk-container-id-3 div.sk-item::before, #sk-container-id-3 div.sk-parallel-item::before {content: \"\";position: absolute;border-left: 1px solid gray;box-sizing: border-box;top: 0;bottom: 0;left: 50%;z-index: -1;}#sk-container-id-3 div.sk-parallel-item {display: flex;flex-direction: column;z-index: 1;position: relative;background-color: white;}#sk-container-id-3 div.sk-parallel-item:first-child::after {align-self: flex-end;width: 50%;}#sk-container-id-3 div.sk-parallel-item:last-child::after {align-self: flex-start;width: 50%;}#sk-container-id-3 div.sk-parallel-item:only-child::after {width: 0;}#sk-container-id-3 div.sk-dashed-wrapped {border: 1px dashed gray;margin: 0 0.4em 0.5em 0.4em;box-sizing: border-box;padding-bottom: 0.4em;background-color: white;}#sk-container-id-3 div.sk-label label {font-family: monospace;font-weight: bold;display: inline-block;line-height: 1.2em;}#sk-container-id-3 div.sk-label-container {text-align: center;}#sk-container-id-3 div.sk-container {/* jupyter's `normalize.less` sets `[hidden] { display: none; }` but bootstrap.min.css set `[hidden] { display: none !important; }` so we also need the `!important` here to be able to override the default hidden behavior on the sphinx rendered scikit-learn.org. See: https://github.com/scikit-learn/scikit-learn/issues/21755 */display: inline-block !important;position: relative;}#sk-container-id-3 div.sk-text-repr-fallback {display: none;}</style><div id=\"sk-container-id-3\" class=\"sk-top-container\"><div class=\"sk-text-repr-fallback\"><pre>LogisticRegression(max_iter=1000)</pre><b>In a Jupyter environment, please rerun this cell to show the HTML representation or trust the notebook. <br />On GitHub, the HTML representation is unable to render, please try loading this page with nbviewer.org.</b></div><div class=\"sk-container\" hidden><div class=\"sk-item\"><div class=\"sk-estimator sk-toggleable\"><input class=\"sk-toggleable__control sk-hidden--visually\" id=\"sk-estimator-id-3\" type=\"checkbox\" checked><label for=\"sk-estimator-id-3\" class=\"sk-toggleable__label sk-toggleable__label-arrow\">LogisticRegression</label><div class=\"sk-toggleable__content\"><pre>LogisticRegression(max_iter=1000)</pre></div></div></div></div></div>"
      ],
      "text/plain": [
       "LogisticRegression(max_iter=1000)"
      ]
     },
     "execution_count": 58,
     "metadata": {},
     "output_type": "execute_result"
    }
   ],
   "source": [
    "#Step 3: Split the Data\n",
    "X = murder_target[['district_id']]  # Features\n",
    "y = murder_target['murders']  # Target variable\n",
    "\n",
    "X_train, X_test, y_train, y_test = train_test_split(X, y, test_size=0.2, random_state=42)\n",
    "\n",
    "# Step 4: Train a Model\n",
    "model = LogisticRegression(max_iter=1000)  # Use Logistic Regression for binary classification\n",
    "model.fit(X_train, y_train)\n"
   ]
  },
  {
   "cell_type": "code",
   "execution_count": 59,
   "id": "69bc378e",
   "metadata": {},
   "outputs": [],
   "source": [
    "# Step 5: Evaluate the Model\n",
    "y_pred = model.predict(X_test)"
   ]
  },
  {
   "cell_type": "code",
   "execution_count": 60,
   "id": "d9e920cd",
   "metadata": {},
   "outputs": [
    {
     "name": "stdout",
     "output_type": "stream",
     "text": [
      "Accuracy: 0.99877051301962\n"
     ]
    }
   ],
   "source": [
    "# Accuracy\n",
    "accuracy = accuracy_score(y_test, y_pred)\n",
    "print(f'Accuracy: {accuracy}')"
   ]
  },
  {
   "cell_type": "code",
   "execution_count": 61,
   "id": "d575b198",
   "metadata": {},
   "outputs": [
    {
     "name": "stdout",
     "output_type": "stream",
     "text": [
      "Confusion Matrix:\n",
      "[[77173     0]\n",
      " [   95     0]]\n"
     ]
    }
   ],
   "source": [
    "# Confusion Matrix\n",
    "conf_matrix = confusion_matrix(y_test, y_pred)\n",
    "print('Confusion Matrix:')\n",
    "print(conf_matrix)"
   ]
  },
  {
   "cell_type": "code",
   "execution_count": 62,
   "id": "4b5366dc",
   "metadata": {},
   "outputs": [
    {
     "name": "stdout",
     "output_type": "stream",
     "text": [
      "Classification Report:\n",
      "              precision    recall  f1-score   support\n",
      "\n",
      "           0       1.00      1.00      1.00     77173\n",
      "           1       0.00      0.00      0.00        95\n",
      "\n",
      "    accuracy                           1.00     77268\n",
      "   macro avg       0.50      0.50      0.50     77268\n",
      "weighted avg       1.00      1.00      1.00     77268\n",
      "\n"
     ]
    },
    {
     "name": "stderr",
     "output_type": "stream",
     "text": [
      "/Users/arianadunlap/anaconda3/envs/dev/lib/python3.10/site-packages/sklearn/metrics/_classification.py:1469: UndefinedMetricWarning: Precision and F-score are ill-defined and being set to 0.0 in labels with no predicted samples. Use `zero_division` parameter to control this behavior.\n",
      "  _warn_prf(average, modifier, msg_start, len(result))\n",
      "/Users/arianadunlap/anaconda3/envs/dev/lib/python3.10/site-packages/sklearn/metrics/_classification.py:1469: UndefinedMetricWarning: Precision and F-score are ill-defined and being set to 0.0 in labels with no predicted samples. Use `zero_division` parameter to control this behavior.\n",
      "  _warn_prf(average, modifier, msg_start, len(result))\n",
      "/Users/arianadunlap/anaconda3/envs/dev/lib/python3.10/site-packages/sklearn/metrics/_classification.py:1469: UndefinedMetricWarning: Precision and F-score are ill-defined and being set to 0.0 in labels with no predicted samples. Use `zero_division` parameter to control this behavior.\n",
      "  _warn_prf(average, modifier, msg_start, len(result))\n"
     ]
    }
   ],
   "source": [
    "# Classification Report\n",
    "class_report = classification_report(y_test, y_pred)\n",
    "print('Classification Report:')\n",
    "print(class_report)"
   ]
  },
  {
   "cell_type": "code",
   "execution_count": 63,
   "id": "b6273495",
   "metadata": {},
   "outputs": [],
   "source": [
    "#Attempt Number 2"
   ]
  },
  {
   "cell_type": "code",
   "execution_count": 64,
   "id": "69717ad5",
   "metadata": {},
   "outputs": [],
   "source": [
    "# Select features and target\n",
    "X = murder_target[['district_id', 'precinct_id', 'neighborhood_id', 'victim_count']]\n",
    "y = murder_target['murders']"
   ]
  },
  {
   "cell_type": "code",
   "execution_count": 65,
   "id": "10e79d3a",
   "metadata": {},
   "outputs": [],
   "source": [
    "# Ensure categorical columns are strings\n",
    "X.loc[:, 'district_id'] = X['district_id'].astype(str)\n",
    "X.loc[:, 'neighborhood_id'] = X['neighborhood_id'].astype(str)\n",
    "\n",
    "# Ensure numerical columns are numeric\n",
    "X.loc[:, 'precinct_id'] = pd.to_numeric(X['precinct_id'], errors='coerce')\n",
    "X.loc[:, 'victim_count'] = pd.to_numeric(X['victim_count'], errors='coerce')"
   ]
  },
  {
   "cell_type": "code",
   "execution_count": 66,
   "id": "90a097c0",
   "metadata": {},
   "outputs": [],
   "source": [
    "# Handle missing values\n",
    "X = X.fillna(-1)"
   ]
  },
  {
   "cell_type": "code",
   "execution_count": 67,
   "id": "aae1a2a5",
   "metadata": {},
   "outputs": [],
   "source": [
    "# One-hot encode categorical features\n",
    "categorical_features = ['district_id', 'neighborhood_id']\n",
    "numerical_features = ['precinct_id', 'victim_count']\n",
    "\n",
    "preprocessor = ColumnTransformer(\n",
    "    transformers=[\n",
    "        ('num', 'passthrough', numerical_features),\n",
    "        ('cat', OneHotEncoder(handle_unknown='ignore'), categorical_features)\n",
    "    ]\n",
    ")"
   ]
  },
  {
   "cell_type": "code",
   "execution_count": 68,
   "id": "66975aff",
   "metadata": {},
   "outputs": [],
   "source": [
    "# Create a pipeline for preprocessing\n",
    "preprocessing_pipeline = Pipeline(steps=[\n",
    "    ('preprocessor', preprocessor)\n",
    "])"
   ]
  },
  {
   "cell_type": "code",
   "execution_count": 69,
   "id": "6ba2b70c",
   "metadata": {},
   "outputs": [
    {
     "data": {
      "text/html": [
       "<style>#sk-container-id-4 {color: black;}#sk-container-id-4 pre{padding: 0;}#sk-container-id-4 div.sk-toggleable {background-color: white;}#sk-container-id-4 label.sk-toggleable__label {cursor: pointer;display: block;width: 100%;margin-bottom: 0;padding: 0.3em;box-sizing: border-box;text-align: center;}#sk-container-id-4 label.sk-toggleable__label-arrow:before {content: \"▸\";float: left;margin-right: 0.25em;color: #696969;}#sk-container-id-4 label.sk-toggleable__label-arrow:hover:before {color: black;}#sk-container-id-4 div.sk-estimator:hover label.sk-toggleable__label-arrow:before {color: black;}#sk-container-id-4 div.sk-toggleable__content {max-height: 0;max-width: 0;overflow: hidden;text-align: left;background-color: #f0f8ff;}#sk-container-id-4 div.sk-toggleable__content pre {margin: 0.2em;color: black;border-radius: 0.25em;background-color: #f0f8ff;}#sk-container-id-4 input.sk-toggleable__control:checked~div.sk-toggleable__content {max-height: 200px;max-width: 100%;overflow: auto;}#sk-container-id-4 input.sk-toggleable__control:checked~label.sk-toggleable__label-arrow:before {content: \"▾\";}#sk-container-id-4 div.sk-estimator input.sk-toggleable__control:checked~label.sk-toggleable__label {background-color: #d4ebff;}#sk-container-id-4 div.sk-label input.sk-toggleable__control:checked~label.sk-toggleable__label {background-color: #d4ebff;}#sk-container-id-4 input.sk-hidden--visually {border: 0;clip: rect(1px 1px 1px 1px);clip: rect(1px, 1px, 1px, 1px);height: 1px;margin: -1px;overflow: hidden;padding: 0;position: absolute;width: 1px;}#sk-container-id-4 div.sk-estimator {font-family: monospace;background-color: #f0f8ff;border: 1px dotted black;border-radius: 0.25em;box-sizing: border-box;margin-bottom: 0.5em;}#sk-container-id-4 div.sk-estimator:hover {background-color: #d4ebff;}#sk-container-id-4 div.sk-parallel-item::after {content: \"\";width: 100%;border-bottom: 1px solid gray;flex-grow: 1;}#sk-container-id-4 div.sk-label:hover label.sk-toggleable__label {background-color: #d4ebff;}#sk-container-id-4 div.sk-serial::before {content: \"\";position: absolute;border-left: 1px solid gray;box-sizing: border-box;top: 0;bottom: 0;left: 50%;z-index: 0;}#sk-container-id-4 div.sk-serial {display: flex;flex-direction: column;align-items: center;background-color: white;padding-right: 0.2em;padding-left: 0.2em;position: relative;}#sk-container-id-4 div.sk-item {position: relative;z-index: 1;}#sk-container-id-4 div.sk-parallel {display: flex;align-items: stretch;justify-content: center;background-color: white;position: relative;}#sk-container-id-4 div.sk-item::before, #sk-container-id-4 div.sk-parallel-item::before {content: \"\";position: absolute;border-left: 1px solid gray;box-sizing: border-box;top: 0;bottom: 0;left: 50%;z-index: -1;}#sk-container-id-4 div.sk-parallel-item {display: flex;flex-direction: column;z-index: 1;position: relative;background-color: white;}#sk-container-id-4 div.sk-parallel-item:first-child::after {align-self: flex-end;width: 50%;}#sk-container-id-4 div.sk-parallel-item:last-child::after {align-self: flex-start;width: 50%;}#sk-container-id-4 div.sk-parallel-item:only-child::after {width: 0;}#sk-container-id-4 div.sk-dashed-wrapped {border: 1px dashed gray;margin: 0 0.4em 0.5em 0.4em;box-sizing: border-box;padding-bottom: 0.4em;background-color: white;}#sk-container-id-4 div.sk-label label {font-family: monospace;font-weight: bold;display: inline-block;line-height: 1.2em;}#sk-container-id-4 div.sk-label-container {text-align: center;}#sk-container-id-4 div.sk-container {/* jupyter's `normalize.less` sets `[hidden] { display: none; }` but bootstrap.min.css set `[hidden] { display: none !important; }` so we also need the `!important` here to be able to override the default hidden behavior on the sphinx rendered scikit-learn.org. See: https://github.com/scikit-learn/scikit-learn/issues/21755 */display: inline-block !important;position: relative;}#sk-container-id-4 div.sk-text-repr-fallback {display: none;}</style><div id=\"sk-container-id-4\" class=\"sk-top-container\"><div class=\"sk-text-repr-fallback\"><pre>RandomForestClassifier(class_weight={0: 1, 1: 10}, random_state=42)</pre><b>In a Jupyter environment, please rerun this cell to show the HTML representation or trust the notebook. <br />On GitHub, the HTML representation is unable to render, please try loading this page with nbviewer.org.</b></div><div class=\"sk-container\" hidden><div class=\"sk-item\"><div class=\"sk-estimator sk-toggleable\"><input class=\"sk-toggleable__control sk-hidden--visually\" id=\"sk-estimator-id-4\" type=\"checkbox\" checked><label for=\"sk-estimator-id-4\" class=\"sk-toggleable__label sk-toggleable__label-arrow\">RandomForestClassifier</label><div class=\"sk-toggleable__content\"><pre>RandomForestClassifier(class_weight={0: 1, 1: 10}, random_state=42)</pre></div></div></div></div></div>"
      ],
      "text/plain": [
       "RandomForestClassifier(class_weight={0: 1, 1: 10}, random_state=42)"
      ]
     },
     "execution_count": 69,
     "metadata": {},
     "output_type": "execute_result"
    }
   ],
   "source": [
    "# Preprocess the data\n",
    "X_preprocessed = preprocessing_pipeline.fit_transform(X)\n",
    "\n",
    "# Apply SMOTE to the preprocessed data\n",
    "smote = SMOTE(random_state=42)\n",
    "X_resampled, y_resampled = smote.fit_resample(X_preprocessed, y)\n",
    "\n",
    "# Split the resampled data\n",
    "X_train, X_test, y_train, y_test = train_test_split(X_resampled, y_resampled, test_size=0.2, random_state=42)\n",
    "\n",
    "# Train the model\n",
    "model = RandomForestClassifier(random_state=42, class_weight={0: 1, 1: 10})\n",
    "model.fit(X_train, y_train)"
   ]
  },
  {
   "cell_type": "code",
   "execution_count": 70,
   "id": "0c3b464b",
   "metadata": {},
   "outputs": [],
   "source": [
    "# Make predictions\n",
    "y_pred = model.predict(X_test)"
   ]
  },
  {
   "cell_type": "code",
   "execution_count": 71,
   "id": "bad7972c",
   "metadata": {},
   "outputs": [
    {
     "name": "stdout",
     "output_type": "stream",
     "text": [
      "              precision    recall  f1-score   support\n",
      "\n",
      "           0       0.99      0.25      0.40     76989\n",
      "           1       0.57      1.00      0.73     77383\n",
      "\n",
      "    accuracy                           0.62    154372\n",
      "   macro avg       0.78      0.62      0.56    154372\n",
      "weighted avg       0.78      0.62      0.56    154372\n",
      "\n",
      "[[19033 57956]\n",
      " [  239 77144]]\n"
     ]
    }
   ],
   "source": [
    "# Generate classification report\n",
    "print(classification_report(y_test, y_pred, zero_division=1))\n",
    "\n",
    "# Display confusion matrix\n",
    "print(confusion_matrix(y_test, y_pred))\n"
   ]
  },
  {
   "cell_type": "code",
   "execution_count": 72,
   "id": "658ac14a",
   "metadata": {},
   "outputs": [],
   "source": [
    "#Attempt #4"
   ]
  },
  {
   "cell_type": "code",
   "execution_count": 73,
   "id": "2c0bfa18",
   "metadata": {},
   "outputs": [],
   "source": [
    "# Select features and target\n",
    "X = murder_target[['district_id', 'precinct_id', 'neighborhood_id', 'victim_count']]\n",
    "y = murder_target['murders']"
   ]
  },
  {
   "cell_type": "code",
   "execution_count": 74,
   "id": "e19b4055",
   "metadata": {},
   "outputs": [
    {
     "name": "stderr",
     "output_type": "stream",
     "text": [
      "/var/folders/lf/571yqhp567q4xvhn114r28c40000gn/T/ipykernel_41069/604517807.py:2: SettingWithCopyWarning: \n",
      "A value is trying to be set on a copy of a slice from a DataFrame.\n",
      "Try using .loc[row_indexer,col_indexer] = value instead\n",
      "\n",
      "See the caveats in the documentation: https://pandas.pydata.org/pandas-docs/stable/user_guide/indexing.html#returning-a-view-versus-a-copy\n",
      "  X['district_id'] = X['district_id'].astype(str)\n",
      "/var/folders/lf/571yqhp567q4xvhn114r28c40000gn/T/ipykernel_41069/604517807.py:3: SettingWithCopyWarning: \n",
      "A value is trying to be set on a copy of a slice from a DataFrame.\n",
      "Try using .loc[row_indexer,col_indexer] = value instead\n",
      "\n",
      "See the caveats in the documentation: https://pandas.pydata.org/pandas-docs/stable/user_guide/indexing.html#returning-a-view-versus-a-copy\n",
      "  X['neighborhood_id'] = X['neighborhood_id'].astype(str)\n",
      "/var/folders/lf/571yqhp567q4xvhn114r28c40000gn/T/ipykernel_41069/604517807.py:6: SettingWithCopyWarning: \n",
      "A value is trying to be set on a copy of a slice from a DataFrame.\n",
      "Try using .loc[row_indexer,col_indexer] = value instead\n",
      "\n",
      "See the caveats in the documentation: https://pandas.pydata.org/pandas-docs/stable/user_guide/indexing.html#returning-a-view-versus-a-copy\n",
      "  X['precinct_id'] = pd.to_numeric(X['precinct_id'], errors='coerce')\n",
      "/var/folders/lf/571yqhp567q4xvhn114r28c40000gn/T/ipykernel_41069/604517807.py:7: SettingWithCopyWarning: \n",
      "A value is trying to be set on a copy of a slice from a DataFrame.\n",
      "Try using .loc[row_indexer,col_indexer] = value instead\n",
      "\n",
      "See the caveats in the documentation: https://pandas.pydata.org/pandas-docs/stable/user_guide/indexing.html#returning-a-view-versus-a-copy\n",
      "  X['victim_count'] = pd.to_numeric(X['victim_count'], errors='coerce')\n"
     ]
    }
   ],
   "source": [
    "# Ensure categorical columns are strings\n",
    "X['district_id'] = X['district_id'].astype(str)\n",
    "X['neighborhood_id'] = X['neighborhood_id'].astype(str)\n",
    "\n",
    "# Ensure numerical columns are numeric\n",
    "X['precinct_id'] = pd.to_numeric(X['precinct_id'], errors='coerce')\n",
    "X['victim_count'] = pd.to_numeric(X['victim_count'], errors='coerce')"
   ]
  },
  {
   "cell_type": "code",
   "execution_count": 75,
   "id": "8c6f8327",
   "metadata": {},
   "outputs": [],
   "source": [
    "# Handle missing values\n",
    "X = X.fillna(-1)\n",
    "\n",
    "# One-hot encode categorical features\n",
    "categorical_features = ['district_id', 'neighborhood_id']\n",
    "numerical_features = ['precinct_id', 'victim_count']\n",
    "\n",
    "preprocessor = ColumnTransformer(\n",
    "    transformers=[\n",
    "        ('num', 'passthrough', numerical_features),\n",
    "        ('cat', OneHotEncoder(handle_unknown='ignore'), categorical_features)\n",
    "    ]\n",
    ")"
   ]
  },
  {
   "cell_type": "code",
   "execution_count": null,
   "id": "27b3ced6",
   "metadata": {},
   "outputs": [],
   "source": [
    "# Create a pipeline for preprocessing\n",
    "preprocessing_pipeline = Pipeline(steps=[\n",
    "    ('preprocessor', preprocessor)\n",
    "])\n",
    "\n",
    "# Preprocess the data\n",
    "X_preprocessed = preprocessing_pipeline.fit_transform(X)\n",
    "\n",
    "# Apply SMOTETomek to the preprocessed data\n",
    "smotetomek = SMOTETomek(random_state=42)\n",
    "X_resampled, y_resampled = smotetomek.fit_resample(X_preprocessed, y)"
   ]
  },
  {
   "cell_type": "code",
   "execution_count": null,
   "id": "0474cb51",
   "metadata": {},
   "outputs": [],
   "source": [
    "# Split the resampled data\n",
    "X_train, X_test, y_train, y_test = train_test_split(X_resampled, y_resampled, test_size=0.2, random_state=42)\n",
    "\n",
    "# Set up the parameter grid for hyperparameter tuning\n",
    "param_grid = {\n",
    "    'n_estimators': [100, 200, 300],\n",
    "    'max_depth': [10, 20, 30],\n",
    "    'min_samples_split': [2, 5, 10],\n",
    "    'min_samples_leaf': [1, 2, 4],\n",
    "    'class_weight': [{0: 1, 1: 10}, 'balanced']\n",
    "}"
   ]
  },
  {
   "cell_type": "code",
   "execution_count": null,
   "id": "5ad64046",
   "metadata": {},
   "outputs": [],
   "source": [
    "# Create a GridSearchCV object\n",
    "grid_search = GridSearchCV(estimator=RandomForestClassifier(random_state=42),\n",
    "                           param_grid=param_grid,\n",
    "                           cv=3,\n",
    "                           n_jobs=-1,\n",
    "                           scoring='f1')\n",
    "\n",
    "# Fit the model\n",
    "grid_search.fit(X_train, y_train)\n",
    "\n",
    "# Make predictions\n",
    "y_pred = grid_search.best_estimator_.predict(X_test)"
   ]
  },
  {
   "cell_type": "code",
   "execution_count": null,
   "id": "668efa8f",
   "metadata": {},
   "outputs": [],
   "source": [
    "# Generate classification report\n",
    "print(classification_report(y_test, y_pred, zero_division=1))\n",
    "\n",
    "# Display confusion matrix\n",
    "print(confusion_matrix(y_test, y_pred))"
   ]
  },
  {
   "cell_type": "code",
   "execution_count": null,
   "id": "9696b1a1",
   "metadata": {},
   "outputs": [],
   "source": [
    "#Attempt #5   Using the kappa & matthews method "
   ]
  },
  {
   "cell_type": "code",
   "execution_count": null,
   "id": "3e076b5f",
   "metadata": {},
   "outputs": [],
   "source": [
    "# Select features and target\n",
    "X = murder_target[['district_id', 'precinct_id', 'neighborhood_id', 'victim_count']].copy()\n",
    "y = murder_target['murders']"
   ]
  },
  {
   "cell_type": "code",
   "execution_count": null,
   "id": "fe64c4d9",
   "metadata": {},
   "outputs": [],
   "source": [
    "# Ensure categorical columns are strings\n",
    "X.loc[:, 'district_id'] = X['district_id'].astype(str)\n",
    "X.loc[:, 'neighborhood_id'] = X['neighborhood_id'].astype(str)\n",
    "\n",
    "# Ensure numerical columns are numeric\n",
    "X.loc[:, 'precinct_id'] = pd.to_numeric(X['precinct_id'], errors='coerce')\n",
    "X.loc[:, 'victim_count'] = pd.to_numeric(X['victim_count'], errors='coerce')\n",
    "\n",
    "# Handle missing values\n",
    "X = X.fillna(-1)"
   ]
  },
  {
   "cell_type": "code",
   "execution_count": null,
   "id": "49d6daa1",
   "metadata": {},
   "outputs": [],
   "source": [
    "# One-hot encode categorical features\n",
    "categorical_features = ['district_id', 'neighborhood_id']\n",
    "numerical_features = ['precinct_id', 'victim_count']\n",
    "\n",
    "preprocessor = ColumnTransformer(\n",
    "    transformers=[\n",
    "        ('num', 'passthrough', numerical_features),\n",
    "        ('cat', OneHotEncoder(handle_unknown='ignore'), categorical_features)\n",
    "    ]\n",
    ")"
   ]
  },
  {
   "cell_type": "code",
   "execution_count": null,
   "id": "a33a0bba",
   "metadata": {},
   "outputs": [],
   "source": [
    "# Create a pipeline for preprocessing\n",
    "preprocessing_pipeline = Pipeline(steps=[\n",
    "    ('preprocessor', preprocessor)\n",
    "])\n",
    "\n",
    "# Sample a subset of data (e.g., 10%)\n",
    "X_sampled = X.sample(frac=0.1, random_state=42)\n",
    "y_sampled = y[X_sampled.index]"
   ]
  },
  {
   "cell_type": "code",
   "execution_count": null,
   "id": "08c17cd3",
   "metadata": {},
   "outputs": [],
   "source": [
    "# Check memory usage\n",
    "print(f\"Original data size: {X.memory_usage(deep=True).sum() / (1024**2):.2f} MB\")\n",
    "print(f\"Sampled data size: {X_sampled.memory_usage(deep=True).sum() / (1024**2):.2f} MB\")\n",
    "\n",
    "# Preprocess the sampled data\n",
    "X_preprocessed_sampled = preprocessing_pipeline.fit_transform(X_sampled)\n",
    "print(\"Preprocessing done\")"
   ]
  },
  {
   "cell_type": "code",
   "execution_count": null,
   "id": "7637e265",
   "metadata": {},
   "outputs": [],
   "source": [
    "# Adjust SMOTETomek parameters for efficiency\n",
    "smotetomek = SMOTETomek(random_state=42, n_jobs=-1, sampling_strategy='auto')\n",
    "\n",
    "# Apply SMOTETomek to the sampled data\n",
    "X_resampled_sampled, y_resampled_sampled = smotetomek.fit_resample(X_preprocessed_sampled, y_sampled)\n",
    "print(\"Resampling done with sampled data\")"
   ]
  },
  {
   "cell_type": "code",
   "execution_count": null,
   "id": "1ee792da",
   "metadata": {},
   "outputs": [],
   "source": [
    "# Split the resampled sampled data\n",
    "X_train, X_test, y_train, y_test = train_test_split(X_resampled_sampled, y_resampled_sampled, test_size=0.2, random_state=42)\n",
    "print(\"Train-test split done\")"
   ]
  },
  {
   "cell_type": "code",
   "execution_count": null,
   "id": "6decea23",
   "metadata": {},
   "outputs": [],
   "source": [
    "# Set up a simplified parameter grid for hyperparameter tuning\n",
    "param_grid = {\n",
    "    'n_estimators': [100],\n",
    "    'max_depth': [10],\n",
    "    'min_samples_split': [2],\n",
    "    'min_samples_leaf': [1],\n",
    "    'class_weight': ['balanced']\n",
    "}\n",
    "\n",
    "# Create a GridSearchCV object\n",
    "grid_search = GridSearchCV(estimator=RandomForestClassifier(random_state=42),\n",
    "                           param_grid=param_grid,\n",
    "                           cv=3,\n",
    "                           n_jobs=-1,\n",
    "                           scoring='f1')\n",
    "\n",
    "# Fit the model\n",
    "grid_search.fit(X_train, y_train)\n",
    "print(\"Grid search done\")"
   ]
  },
  {
   "cell_type": "code",
   "execution_count": null,
   "id": "b09c51fb",
   "metadata": {},
   "outputs": [],
   "source": [
    "# Make predictions\n",
    "y_pred = grid_search.best_estimator_.predict(X_test)"
   ]
  },
  {
   "cell_type": "code",
   "execution_count": null,
   "id": "8322bb67",
   "metadata": {},
   "outputs": [],
   "source": [
    "# Generate classification report\n",
    "print(classification_report(y_test, y_pred, zero_division=1))\n",
    "\n",
    "# Display confusion matrix\n",
    "print(confusion_matrix(y_test, y_pred))\n",
    "\n",
    "# Calculate Matthews Correlation Coefficient (MCC)\n",
    "mcc = matthews_corrcoef(y_test, y_pred)\n",
    "print(f\"Matthews Correlation Coefficient (MCC): {mcc}\")\n",
    "\n",
    "# Calculate Cohen's Kappa\n",
    "kappa = cohen_kappa_score(y_test, y_pred)\n",
    "print(f\"Cohen's Kappa: {kappa}\")"
   ]
  },
  {
   "cell_type": "code",
   "execution_count": null,
   "id": "47d7b7be",
   "metadata": {},
   "outputs": [],
   "source": []
  },
  {
   "cell_type": "code",
   "execution_count": null,
   "id": "6d303c64",
   "metadata": {},
   "outputs": [],
   "source": []
  },
  {
   "cell_type": "code",
   "execution_count": null,
   "id": "dc999228",
   "metadata": {},
   "outputs": [],
   "source": []
  },
  {
   "cell_type": "code",
   "execution_count": null,
   "id": "d60059ce",
   "metadata": {},
   "outputs": [],
   "source": []
  }
 ],
 "metadata": {
  "kernelspec": {
   "display_name": "Python 3 (ipykernel)",
   "language": "python",
   "name": "python3"
  },
  "language_info": {
   "codemirror_mode": {
    "name": "ipython",
    "version": 3
   },
   "file_extension": ".py",
   "mimetype": "text/x-python",
   "name": "python",
   "nbconvert_exporter": "python",
   "pygments_lexer": "ipython3",
   "version": "3.10.13"
  }
 },
 "nbformat": 4,
 "nbformat_minor": 5
}
