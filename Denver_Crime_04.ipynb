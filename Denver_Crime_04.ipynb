{
 "cells": [
  {
   "cell_type": "code",
   "execution_count": 12,
   "id": "b41366fc",
   "metadata": {},
   "outputs": [],
   "source": [
    "import pandas as pd\n",
    "from sklearn.model_selection import train_test_split, GridSearchCV\n",
    "from sklearn.ensemble import RandomForestClassifier\n",
    "from sklearn.metrics import classification_report, confusion_matrix, matthews_corrcoef, cohen_kappa_score\n",
    "from imblearn.combine import SMOTETomek\n",
    "from sklearn.preprocessing import OneHotEncoder\n",
    "from sklearn.compose import ColumnTransformer\n",
    "from sklearn.pipeline import Pipeline"
   ]
  },
  {
   "cell_type": "code",
   "execution_count": 13,
   "id": "e0ccaa60",
   "metadata": {},
   "outputs": [
    {
     "data": {
      "text/html": [
       "<div>\n",
       "<style scoped>\n",
       "    .dataframe tbody tr th:only-of-type {\n",
       "        vertical-align: middle;\n",
       "    }\n",
       "\n",
       "    .dataframe tbody tr th {\n",
       "        vertical-align: top;\n",
       "    }\n",
       "\n",
       "    .dataframe thead th {\n",
       "        text-align: right;\n",
       "    }\n",
       "</style>\n",
       "<table border=\"1\" class=\"dataframe\">\n",
       "  <thead>\n",
       "    <tr style=\"text-align: right;\">\n",
       "      <th></th>\n",
       "      <th>offense_code</th>\n",
       "      <th>offense_code_extension</th>\n",
       "      <th>offense_type_id</th>\n",
       "      <th>offense_category_id</th>\n",
       "      <th>reported_date</th>\n",
       "      <th>incident_address</th>\n",
       "      <th>geo_lon</th>\n",
       "      <th>geo_lat</th>\n",
       "      <th>district_id</th>\n",
       "      <th>precinct_id</th>\n",
       "      <th>neighborhood_id</th>\n",
       "      <th>victim_count</th>\n",
       "      <th>offense_type_name</th>\n",
       "      <th>murders</th>\n",
       "    </tr>\n",
       "  </thead>\n",
       "  <tbody>\n",
       "    <tr>\n",
       "      <th>0</th>\n",
       "      <td>2999</td>\n",
       "      <td>0</td>\n",
       "      <td>criminal-mischief-other</td>\n",
       "      <td>public-disorder</td>\n",
       "      <td>2/10/2022 3:16:00 AM</td>\n",
       "      <td>1107 N SANTA FE DR</td>\n",
       "      <td>-104.998910</td>\n",
       "      <td>39.733957</td>\n",
       "      <td>1</td>\n",
       "      <td>123.0</td>\n",
       "      <td>lincoln-park</td>\n",
       "      <td>1.0</td>\n",
       "      <td>Criminal mischief - other</td>\n",
       "      <td>0</td>\n",
       "    </tr>\n",
       "    <tr>\n",
       "      <th>1</th>\n",
       "      <td>2999</td>\n",
       "      <td>0</td>\n",
       "      <td>criminal-mischief-other</td>\n",
       "      <td>public-disorder</td>\n",
       "      <td>7/8/2021 12:55:00 AM</td>\n",
       "      <td>815 16TH ST</td>\n",
       "      <td>-104.993342</td>\n",
       "      <td>39.746248</td>\n",
       "      <td>6</td>\n",
       "      <td>611.0</td>\n",
       "      <td>cbd</td>\n",
       "      <td>1.0</td>\n",
       "      <td>Criminal mischief - other</td>\n",
       "      <td>0</td>\n",
       "    </tr>\n",
       "    <tr>\n",
       "      <th>2</th>\n",
       "      <td>2999</td>\n",
       "      <td>0</td>\n",
       "      <td>criminal-mischief-other</td>\n",
       "      <td>public-disorder</td>\n",
       "      <td>10/29/2020 4:31:00 AM</td>\n",
       "      <td>4745 N FEDERAL BLVD</td>\n",
       "      <td>-105.025520</td>\n",
       "      <td>39.782888</td>\n",
       "      <td>1</td>\n",
       "      <td>111.0</td>\n",
       "      <td>berkeley</td>\n",
       "      <td>1.0</td>\n",
       "      <td>Criminal mischief - other</td>\n",
       "      <td>0</td>\n",
       "    </tr>\n",
       "    <tr>\n",
       "      <th>3</th>\n",
       "      <td>2999</td>\n",
       "      <td>0</td>\n",
       "      <td>criminal-mischief-other</td>\n",
       "      <td>public-disorder</td>\n",
       "      <td>9/7/2018 9:58:00 AM</td>\n",
       "      <td>65 S FEDERAL BLVD</td>\n",
       "      <td>-105.025330</td>\n",
       "      <td>39.715357</td>\n",
       "      <td>4</td>\n",
       "      <td>411.0</td>\n",
       "      <td>barnum</td>\n",
       "      <td>1.0</td>\n",
       "      <td>Criminal mischief - other</td>\n",
       "      <td>0</td>\n",
       "    </tr>\n",
       "    <tr>\n",
       "      <th>4</th>\n",
       "      <td>2999</td>\n",
       "      <td>0</td>\n",
       "      <td>criminal-mischief-other</td>\n",
       "      <td>public-disorder</td>\n",
       "      <td>5/13/2020 10:00:00 AM</td>\n",
       "      <td>12295 E ALBROOK DR</td>\n",
       "      <td>-104.845074</td>\n",
       "      <td>39.783082</td>\n",
       "      <td>5</td>\n",
       "      <td>521.0</td>\n",
       "      <td>montbello</td>\n",
       "      <td>1.0</td>\n",
       "      <td>Criminal mischief - other</td>\n",
       "      <td>0</td>\n",
       "    </tr>\n",
       "  </tbody>\n",
       "</table>\n",
       "</div>"
      ],
      "text/plain": [
       "   offense_code  offense_code_extension          offense_type_id  \\\n",
       "0          2999                       0  criminal-mischief-other   \n",
       "1          2999                       0  criminal-mischief-other   \n",
       "2          2999                       0  criminal-mischief-other   \n",
       "3          2999                       0  criminal-mischief-other   \n",
       "4          2999                       0  criminal-mischief-other   \n",
       "\n",
       "  offense_category_id          reported_date     incident_address     geo_lon  \\\n",
       "0     public-disorder   2/10/2022 3:16:00 AM   1107 N SANTA FE DR -104.998910   \n",
       "1     public-disorder   7/8/2021 12:55:00 AM          815 16TH ST -104.993342   \n",
       "2     public-disorder  10/29/2020 4:31:00 AM  4745 N FEDERAL BLVD -105.025520   \n",
       "3     public-disorder    9/7/2018 9:58:00 AM    65 S FEDERAL BLVD -105.025330   \n",
       "4     public-disorder  5/13/2020 10:00:00 AM   12295 E ALBROOK DR -104.845074   \n",
       "\n",
       "     geo_lat district_id  precinct_id neighborhood_id  victim_count  \\\n",
       "0  39.733957           1        123.0    lincoln-park           1.0   \n",
       "1  39.746248           6        611.0             cbd           1.0   \n",
       "2  39.782888           1        111.0        berkeley           1.0   \n",
       "3  39.715357           4        411.0          barnum           1.0   \n",
       "4  39.783082           5        521.0       montbello           1.0   \n",
       "\n",
       "           offense_type_name  murders  \n",
       "0  Criminal mischief - other        0  \n",
       "1  Criminal mischief - other        0  \n",
       "2  Criminal mischief - other        0  \n",
       "3  Criminal mischief - other        0  \n",
       "4  Criminal mischief - other        0  "
      ]
     },
     "execution_count": 13,
     "metadata": {},
     "output_type": "execute_result"
    }
   ],
   "source": [
    "# Read the csv file into a pandas DataFrame\n",
    "murder_target = pd.read_csv(\n",
    "    Path(\"../Crime/murder_target.csv\"), encoding='iso-8859-1'\n",
    ")\n",
    "\n",
    "# Review the DataFrame\n",
    "murder_target.head()"
   ]
  },
  {
   "cell_type": "code",
   "execution_count": 24,
   "id": "31ee0244",
   "metadata": {},
   "outputs": [
    {
     "data": {
      "text/plain": [
       "Index(['offense_code', 'offense_code_extension', 'offense_type_id',\n",
       "       'offense_category_id', 'reported_date', 'incident_address', 'geo_lon',\n",
       "       'geo_lat', 'district_id', 'precinct_id', 'neighborhood_id',\n",
       "       'victim_count', 'offense_type_name', 'murders'],\n",
       "      dtype='object')"
      ]
     },
     "execution_count": 24,
     "metadata": {},
     "output_type": "execute_result"
    }
   ],
   "source": [
    "murder_target.columns"
   ]
  },
  {
   "cell_type": "code",
   "execution_count": 25,
   "id": "ffefe811",
   "metadata": {},
   "outputs": [
    {
     "name": "stdout",
     "output_type": "stream",
     "text": [
      "<class 'pandas.core.frame.DataFrame'>\n",
      "RangeIndex: 386978 entries, 0 to 386977\n",
      "Data columns (total 14 columns):\n",
      " #   Column                  Non-Null Count   Dtype  \n",
      "---  ------                  --------------   -----  \n",
      " 0   offense_code            386978 non-null  int64  \n",
      " 1   offense_code_extension  386978 non-null  int64  \n",
      " 2   offense_type_id         386978 non-null  object \n",
      " 3   offense_category_id     386978 non-null  object \n",
      " 4   reported_date           386865 non-null  object \n",
      " 5   incident_address        371362 non-null  object \n",
      " 6   geo_lon                 371096 non-null  float64\n",
      " 7   geo_lat                 371096 non-null  float64\n",
      " 8   district_id             386808 non-null  object \n",
      " 9   precinct_id             386865 non-null  float64\n",
      " 10  neighborhood_id         386176 non-null  object \n",
      " 11  victim_count            386865 non-null  float64\n",
      " 12  offense_type_name       386978 non-null  object \n",
      " 13  murders                 386978 non-null  int64  \n",
      "dtypes: float64(4), int64(3), object(7)\n",
      "memory usage: 41.3+ MB\n"
     ]
    }
   ],
   "source": [
    "murder_target.info()"
   ]
  },
  {
   "cell_type": "code",
   "execution_count": 14,
   "id": "459fc6a7",
   "metadata": {},
   "outputs": [],
   "source": [
    "# Select features and target\n",
    "X = murder_target[['district_id', 'precinct_id', 'neighborhood_id', 'victim_count']].copy()\n",
    "y = murder_target['murders']\n"
   ]
  },
  {
   "cell_type": "code",
   "execution_count": 15,
   "id": "0cf23590",
   "metadata": {},
   "outputs": [],
   "source": [
    "# Ensure categorical columns are strings\n",
    "X.loc[:, 'district_id'] = X['district_id'].astype(str)\n",
    "X.loc[:, 'neighborhood_id'] = X['neighborhood_id'].astype(str)\n",
    "\n",
    "# Ensure numerical columns are numeric\n",
    "X.loc[:, 'precinct_id'] = pd.to_numeric(X['precinct_id'], errors='coerce')\n",
    "X.loc[:, 'victim_count'] = pd.to_numeric(X['victim_count'], errors='coerce')"
   ]
  },
  {
   "cell_type": "code",
   "execution_count": 16,
   "id": "f5c6dd68",
   "metadata": {},
   "outputs": [],
   "source": [
    "# Handle missing values\n",
    "X = X.fillna(-1)"
   ]
  },
  {
   "cell_type": "code",
   "execution_count": 17,
   "id": "d8d440f4",
   "metadata": {},
   "outputs": [],
   "source": [
    "# One-hot encode categorical features\n",
    "categorical_features = ['district_id', 'neighborhood_id']\n",
    "numerical_features = ['precinct_id', 'victim_count']\n",
    "\n",
    "preprocessor = ColumnTransformer(\n",
    "    transformers=[\n",
    "        ('num', 'passthrough', numerical_features),\n",
    "        ('cat', OneHotEncoder(handle_unknown='ignore'), categorical_features)\n",
    "    ]\n",
    ")\n"
   ]
  },
  {
   "cell_type": "code",
   "execution_count": 18,
   "id": "dbe257fd",
   "metadata": {},
   "outputs": [],
   "source": [
    "# Create a pipeline for preprocessing\n",
    "preprocessing_pipeline = Pipeline(steps=[\n",
    "    ('preprocessor', preprocessor)\n",
    "])\n",
    "\n",
    "# Sample a subset of data (e.g., 10%)\n",
    "X_sampled = X.sample(frac=0.1, random_state=42)\n",
    "y_sampled = y[X_sampled.index]\n"
   ]
  },
  {
   "cell_type": "code",
   "execution_count": 19,
   "id": "328ff80f",
   "metadata": {},
   "outputs": [
    {
     "name": "stdout",
     "output_type": "stream",
     "text": [
      "Original data size: 52.43 MB\n",
      "Sampled data size: 5.54 MB\n"
     ]
    }
   ],
   "source": [
    "# Check memory usage\n",
    "print(f\"Original data size: {X.memory_usage(deep=True).sum() / (1024**2):.2f} MB\")\n",
    "print(f\"Sampled data size: {X_sampled.memory_usage(deep=True).sum() / (1024**2):.2f} MB\")"
   ]
  },
  {
   "cell_type": "code",
   "execution_count": 20,
   "id": "0e992895",
   "metadata": {},
   "outputs": [
    {
     "name": "stdout",
     "output_type": "stream",
     "text": [
      "Preprocessing done\n"
     ]
    }
   ],
   "source": [
    "# Preprocess the sampled data\n",
    "X_preprocessed_sampled = preprocessing_pipeline.fit_transform(X_sampled)\n",
    "print(\"Preprocessing done\")"
   ]
  },
  {
   "cell_type": "code",
   "execution_count": 21,
   "id": "55e47cbb",
   "metadata": {},
   "outputs": [
    {
     "name": "stderr",
     "output_type": "stream",
     "text": [
      "/Users/arianadunlap/anaconda3/envs/dev/lib/python3.10/site-packages/imblearn/over_sampling/_smote/base.py:370: FutureWarning: The parameter `n_jobs` has been deprecated in 0.10 and will be removed in 0.12. You can pass an nearest neighbors estimator where `n_jobs` is already set instead.\n",
      "  warnings.warn(\n"
     ]
    },
    {
     "name": "stdout",
     "output_type": "stream",
     "text": [
      "Resampling done with sampled data\n"
     ]
    }
   ],
   "source": [
    "# Adjust SMOTETomek parameters for efficiency\n",
    "smotetomek = SMOTETomek(random_state=42, n_jobs=-1, sampling_strategy='auto')\n",
    "\n",
    "# Apply SMOTETomek to the sampled data\n",
    "X_resampled_sampled, y_resampled_sampled = smotetomek.fit_resample(X_preprocessed_sampled, y_sampled)\n",
    "print(\"Resampling done with sampled data\")"
   ]
  },
  {
   "cell_type": "code",
   "execution_count": 22,
   "id": "afac2fca",
   "metadata": {},
   "outputs": [
    {
     "name": "stdout",
     "output_type": "stream",
     "text": [
      "Train-test split done\n"
     ]
    }
   ],
   "source": [
    "# Split the resampled sampled data\n",
    "X_train, X_test, y_train, y_test = train_test_split(X_resampled_sampled, y_resampled_sampled, test_size=0.2, random_state=42)\n",
    "print(\"Train-test split done\")\n",
    "\n",
    "# Set up a simplified parameter grid for hyperparameter tuning\n",
    "param_grid = {\n",
    "    'n_estimators': [100],\n",
    "    'max_depth': [10],\n",
    "    'min_samples_split': [2],\n",
    "    'min_samples_leaf': [1],\n",
    "    'class_weight': ['balanced']\n",
    "}\n",
    "\n",
    "# Create a GridSearchCV object\n",
    "grid_search = GridSearchCV(estimator=RandomForestClassifier(random_state=42),\n",
    "                           param_grid=param_grid,\n",
    "                           cv=3,\n",
    "                           n_jobs=-1,\n",
    "                           scoring='f1')"
   ]
  },
  {
   "cell_type": "code",
   "execution_count": 23,
   "id": "c0fa58a8",
   "metadata": {},
   "outputs": [
    {
     "name": "stdout",
     "output_type": "stream",
     "text": [
      "Grid search done\n",
      "              precision    recall  f1-score   support\n",
      "\n",
      "           0       0.91      0.98      0.94      7673\n",
      "           1       0.97      0.90      0.94      7789\n",
      "\n",
      "    accuracy                           0.94     15462\n",
      "   macro avg       0.94      0.94      0.94     15462\n",
      "weighted avg       0.94      0.94      0.94     15462\n",
      "\n",
      "[[7485  188]\n",
      " [ 779 7010]]\n",
      "Matthews Correlation Coefficient (MCC): 0.8775490771933643\n",
      "Cohen's Kappa: 0.8749838187837562\n"
     ]
    }
   ],
   "source": [
    "# Fit the model\n",
    "grid_search.fit(X_train, y_train)\n",
    "print(\"Grid search done\")\n",
    "\n",
    "# Make predictions\n",
    "y_pred = grid_search.best_estimator_.predict(X_test)\n",
    "\n",
    "# Generate classification report\n",
    "print(classification_report(y_test, y_pred, zero_division=1))\n",
    "\n",
    "# Display confusion matrix\n",
    "print(confusion_matrix(y_test, y_pred))\n",
    "\n",
    "# Calculate Matthews Correlation Coefficient (MCC)\n",
    "mcc = matthews_corrcoef(y_test, y_pred)\n",
    "print(f\"Matthews Correlation Coefficient (MCC): {mcc}\")\n",
    "\n",
    "# Calculate Cohen's Kappa\n",
    "kappa = cohen_kappa_score(y_test, y_pred)\n",
    "print(f\"Cohen's Kappa: {kappa}\")\n"
   ]
  },
  {
   "cell_type": "code",
   "execution_count": null,
   "id": "42179969",
   "metadata": {},
   "outputs": [],
   "source": []
  }
 ],
 "metadata": {
  "kernelspec": {
   "display_name": "Python 3 (ipykernel)",
   "language": "python",
   "name": "python3"
  },
  "language_info": {
   "codemirror_mode": {
    "name": "ipython",
    "version": 3
   },
   "file_extension": ".py",
   "mimetype": "text/x-python",
   "name": "python",
   "nbconvert_exporter": "python",
   "pygments_lexer": "ipython3",
   "version": "3.10.13"
  }
 },
 "nbformat": 4,
 "nbformat_minor": 5
}
