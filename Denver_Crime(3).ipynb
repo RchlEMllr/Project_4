{
 "cells": [
  {
   "cell_type": "code",
   "execution_count": 1,
   "id": "44a84415",
   "metadata": {},
   "outputs": [
    {
     "name": "stderr",
     "output_type": "stream",
     "text": [
      "2024-06-09 20:51:38.174909: I tensorflow/core/platform/cpu_feature_guard.cc:193] This TensorFlow binary is optimized with oneAPI Deep Neural Network Library (oneDNN) to use the following CPU instructions in performance-critical operations:  SSE4.1 SSE4.2\n",
      "To enable them in other operations, rebuild TensorFlow with the appropriate compiler flags.\n"
     ]
    }
   ],
   "source": [
    "# Import the modules\n",
    "import pandas as pd\n",
    "from sklearn.compose import ColumnTransformer\n",
    "from sklearn.preprocessing import LabelEncoder\n",
    "\n",
    "from sklearn.preprocessing import OneHotEncoder\n",
    "from sklearn.model_selection import train_test_split\n",
    "from sklearn.linear_model import LinearRegression\n",
    "from sklearn.cluster import KMeans\n",
    "import pandas as pd\n",
    "from sklearn.cluster import KMeans\n",
    "import matplotlib.pyplot as plt\n",
    "import seaborn as sns\n",
    "from pathlib import Path\n",
    "from sklearn.preprocessing import StandardScaler,OneHotEncoder\n",
    "import tensorflow as tf\n",
    "from sklearn.model_selection import train_test_split, GridSearchCV\n",
    "from sklearn.ensemble import RandomForestClassifier\n",
    "from sklearn.metrics import classification_report, confusion_matrix, matthews_corrcoef, cohen_kappa_score\n",
    "from imblearn.combine import SMOTETomek\n",
    "from sklearn.preprocessing import OneHotEncoder\n",
    "from sklearn.compose import ColumnTransformer"
   ]
  },
  {
   "cell_type": "code",
   "execution_count": 2,
   "id": "e6f2eb77",
   "metadata": {},
   "outputs": [],
   "source": [
    "import pandas as pd\n",
    "from sklearn.model_selection import train_test_split\n",
    "from sklearn.linear_model import LogisticRegression\n",
    "from sklearn.metrics import accuracy_score, confusion_matrix, classification_report"
   ]
  },
  {
   "cell_type": "code",
   "execution_count": 3,
   "id": "2d5dcde9",
   "metadata": {
    "scrolled": true
   },
   "outputs": [
    {
     "data": {
      "text/html": [
       "<div>\n",
       "<style scoped>\n",
       "    .dataframe tbody tr th:only-of-type {\n",
       "        vertical-align: middle;\n",
       "    }\n",
       "\n",
       "    .dataframe tbody tr th {\n",
       "        vertical-align: top;\n",
       "    }\n",
       "\n",
       "    .dataframe thead th {\n",
       "        text-align: right;\n",
       "    }\n",
       "</style>\n",
       "<table border=\"1\" class=\"dataframe\">\n",
       "  <thead>\n",
       "    <tr style=\"text-align: right;\">\n",
       "      <th></th>\n",
       "      <th>offense_code</th>\n",
       "      <th>offense_code_extension</th>\n",
       "      <th>offense_type_id</th>\n",
       "      <th>offense_category_id</th>\n",
       "      <th>reported_date</th>\n",
       "      <th>incident_address</th>\n",
       "      <th>geo_lon</th>\n",
       "      <th>geo_lat</th>\n",
       "      <th>district_id</th>\n",
       "      <th>precinct_id</th>\n",
       "      <th>neighborhood_id</th>\n",
       "      <th>victim_count</th>\n",
       "      <th>offense_type_name</th>\n",
       "      <th>murders</th>\n",
       "    </tr>\n",
       "  </thead>\n",
       "  <tbody>\n",
       "    <tr>\n",
       "      <th>0</th>\n",
       "      <td>2999</td>\n",
       "      <td>0</td>\n",
       "      <td>criminal-mischief-other</td>\n",
       "      <td>public-disorder</td>\n",
       "      <td>2/10/2022 3:16:00 AM</td>\n",
       "      <td>1107 N SANTA FE DR</td>\n",
       "      <td>-104.998910</td>\n",
       "      <td>39.733957</td>\n",
       "      <td>1</td>\n",
       "      <td>123.0</td>\n",
       "      <td>lincoln-park</td>\n",
       "      <td>1.0</td>\n",
       "      <td>Criminal mischief - other</td>\n",
       "      <td>0</td>\n",
       "    </tr>\n",
       "    <tr>\n",
       "      <th>1</th>\n",
       "      <td>2999</td>\n",
       "      <td>0</td>\n",
       "      <td>criminal-mischief-other</td>\n",
       "      <td>public-disorder</td>\n",
       "      <td>7/8/2021 12:55:00 AM</td>\n",
       "      <td>815 16TH ST</td>\n",
       "      <td>-104.993342</td>\n",
       "      <td>39.746248</td>\n",
       "      <td>6</td>\n",
       "      <td>611.0</td>\n",
       "      <td>cbd</td>\n",
       "      <td>1.0</td>\n",
       "      <td>Criminal mischief - other</td>\n",
       "      <td>0</td>\n",
       "    </tr>\n",
       "    <tr>\n",
       "      <th>2</th>\n",
       "      <td>2999</td>\n",
       "      <td>0</td>\n",
       "      <td>criminal-mischief-other</td>\n",
       "      <td>public-disorder</td>\n",
       "      <td>10/29/2020 4:31:00 AM</td>\n",
       "      <td>4745 N FEDERAL BLVD</td>\n",
       "      <td>-105.025520</td>\n",
       "      <td>39.782888</td>\n",
       "      <td>1</td>\n",
       "      <td>111.0</td>\n",
       "      <td>berkeley</td>\n",
       "      <td>1.0</td>\n",
       "      <td>Criminal mischief - other</td>\n",
       "      <td>0</td>\n",
       "    </tr>\n",
       "    <tr>\n",
       "      <th>3</th>\n",
       "      <td>2999</td>\n",
       "      <td>0</td>\n",
       "      <td>criminal-mischief-other</td>\n",
       "      <td>public-disorder</td>\n",
       "      <td>9/7/2018 9:58:00 AM</td>\n",
       "      <td>65 S FEDERAL BLVD</td>\n",
       "      <td>-105.025330</td>\n",
       "      <td>39.715357</td>\n",
       "      <td>4</td>\n",
       "      <td>411.0</td>\n",
       "      <td>barnum</td>\n",
       "      <td>1.0</td>\n",
       "      <td>Criminal mischief - other</td>\n",
       "      <td>0</td>\n",
       "    </tr>\n",
       "    <tr>\n",
       "      <th>4</th>\n",
       "      <td>2999</td>\n",
       "      <td>0</td>\n",
       "      <td>criminal-mischief-other</td>\n",
       "      <td>public-disorder</td>\n",
       "      <td>5/13/2020 10:00:00 AM</td>\n",
       "      <td>12295 E ALBROOK DR</td>\n",
       "      <td>-104.845074</td>\n",
       "      <td>39.783082</td>\n",
       "      <td>5</td>\n",
       "      <td>521.0</td>\n",
       "      <td>montbello</td>\n",
       "      <td>1.0</td>\n",
       "      <td>Criminal mischief - other</td>\n",
       "      <td>0</td>\n",
       "    </tr>\n",
       "  </tbody>\n",
       "</table>\n",
       "</div>"
      ],
      "text/plain": [
       "   offense_code  offense_code_extension          offense_type_id  \\\n",
       "0          2999                       0  criminal-mischief-other   \n",
       "1          2999                       0  criminal-mischief-other   \n",
       "2          2999                       0  criminal-mischief-other   \n",
       "3          2999                       0  criminal-mischief-other   \n",
       "4          2999                       0  criminal-mischief-other   \n",
       "\n",
       "  offense_category_id          reported_date     incident_address     geo_lon  \\\n",
       "0     public-disorder   2/10/2022 3:16:00 AM   1107 N SANTA FE DR -104.998910   \n",
       "1     public-disorder   7/8/2021 12:55:00 AM          815 16TH ST -104.993342   \n",
       "2     public-disorder  10/29/2020 4:31:00 AM  4745 N FEDERAL BLVD -105.025520   \n",
       "3     public-disorder    9/7/2018 9:58:00 AM    65 S FEDERAL BLVD -105.025330   \n",
       "4     public-disorder  5/13/2020 10:00:00 AM   12295 E ALBROOK DR -104.845074   \n",
       "\n",
       "     geo_lat district_id  precinct_id neighborhood_id  victim_count  \\\n",
       "0  39.733957           1        123.0    lincoln-park           1.0   \n",
       "1  39.746248           6        611.0             cbd           1.0   \n",
       "2  39.782888           1        111.0        berkeley           1.0   \n",
       "3  39.715357           4        411.0          barnum           1.0   \n",
       "4  39.783082           5        521.0       montbello           1.0   \n",
       "\n",
       "           offense_type_name  murders  \n",
       "0  Criminal mischief - other        0  \n",
       "1  Criminal mischief - other        0  \n",
       "2  Criminal mischief - other        0  \n",
       "3  Criminal mischief - other        0  \n",
       "4  Criminal mischief - other        0  "
      ]
     },
     "execution_count": 3,
     "metadata": {},
     "output_type": "execute_result"
    }
   ],
   "source": [
    "# Read the csv file into a pandas DataFrame\n",
    "murder_target = pd.read_csv(\n",
    "    Path(\"../Crime/murder_target.csv\"), encoding='iso-8859-1'\n",
    ")\n",
    "\n",
    "# Review the DataFrame\n",
    "murder_target.head()"
   ]
  },
  {
   "cell_type": "code",
   "execution_count": null,
   "id": "ff028b39",
   "metadata": {},
   "outputs": [],
   "source": [
    "murder_target.columns"
   ]
  },
  {
   "cell_type": "code",
   "execution_count": null,
   "id": "d8871f58",
   "metadata": {},
   "outputs": [],
   "source": [
    "murder_target.info()"
   ]
  },
  {
   "cell_type": "code",
   "execution_count": null,
   "id": "e071361a",
   "metadata": {},
   "outputs": [],
   "source": [
    "# Handle missing values\n",
    "murder_target = murder_target.dropna(subset=['district_id', 'murders'])  # Drop rows where district_id or murders is NaN\n",
    "\n",
    "# Convert 'district_id' to numerical if necessary\n",
    "murder_target['district_id'] = pd.to_numeric(murder_target['district_id'], errors='coerce')"
   ]
  },
  {
   "cell_type": "code",
   "execution_count": null,
   "id": "3cbfa29f",
   "metadata": {},
   "outputs": [],
   "source": [
    "# Drop rows where 'district_id' could not be converted to numeric\n",
    "murder_target = murder_target.dropna(subset=['district_id'])\n"
   ]
  },
  {
   "cell_type": "code",
   "execution_count": null,
   "id": "8853e57e",
   "metadata": {},
   "outputs": [],
   "source": [
    "# Convert 'district_id' to integer\n",
    "murder_target['district_id'] = murder_target['district_id'].astype(int)\n",
    "\n",
    "# Ensure 'murders' is integer\n",
    "murder_target['murders'] = murder_target['murders'].astype(int)"
   ]
  },
  {
   "cell_type": "code",
   "execution_count": null,
   "id": "6a968cf3",
   "metadata": {},
   "outputs": [],
   "source": [
    "#Step 3: Split the Data\n",
    "X = murder_target[['district_id']]  # Features\n",
    "y = murder_target['murders']  # Target variable\n",
    "\n",
    "X_train, X_test, y_train, y_test = train_test_split(X, y, test_size=0.2, random_state=42)\n",
    "\n",
    "# Step 4: Train a Model\n",
    "model = LogisticRegression(max_iter=1000)  # Use Logistic Regression for binary classification\n",
    "model.fit(X_train, y_train)\n"
   ]
  },
  {
   "cell_type": "code",
   "execution_count": null,
   "id": "69bc378e",
   "metadata": {},
   "outputs": [],
   "source": [
    "# Step 5: Evaluate the Model\n",
    "y_pred = model.predict(X_test)"
   ]
  },
  {
   "cell_type": "code",
   "execution_count": null,
   "id": "d9e920cd",
   "metadata": {},
   "outputs": [],
   "source": [
    "# Accuracy\n",
    "accuracy = accuracy_score(y_test, y_pred)\n",
    "print(f'Accuracy: {accuracy}')"
   ]
  },
  {
   "cell_type": "code",
   "execution_count": null,
   "id": "d575b198",
   "metadata": {},
   "outputs": [],
   "source": [
    "# Confusion Matrix\n",
    "conf_matrix = confusion_matrix(y_test, y_pred)\n",
    "print('Confusion Matrix:')\n",
    "print(conf_matrix)"
   ]
  },
  {
   "cell_type": "code",
   "execution_count": null,
   "id": "4b5366dc",
   "metadata": {},
   "outputs": [],
   "source": [
    "# Classification Report\n",
    "class_report = classification_report(y_test, y_pred)\n",
    "print('Classification Report:')\n",
    "print(class_report)"
   ]
  },
  {
   "cell_type": "code",
   "execution_count": null,
   "id": "57c06b51",
   "metadata": {},
   "outputs": [],
   "source": [
    "#Attempt #2"
   ]
  },
  {
   "cell_type": "code",
   "execution_count": null,
   "id": "e062e49b",
   "metadata": {},
   "outputs": [],
   "source": [
    "# Select features and target\n",
    "X = murder_target[['district_id']]\n",
    "y = murder_target['murders']"
   ]
  },
  {
   "cell_type": "code",
   "execution_count": null,
   "id": "3fffe3b1",
   "metadata": {},
   "outputs": [],
   "source": [
    "# Split the data\n",
    "X_train, X_test, y_train, y_test = train_test_split(X, y, test_size=0.2, random_state=42)\n",
    "\n",
    "# Handle imbalance using SMOTE\n",
    "smote = SMOTE(random_state=42)\n",
    "X_train_res, y_train_res = smote.fit_resample(X_train, y_train)\n",
    "\n",
    "# Train the model\n",
    "rf_model = RandomForestClassifier(random_state=42)\n",
    "rf_model.fit(X_train_res, y_train_res)"
   ]
  },
  {
   "cell_type": "code",
   "execution_count": null,
   "id": "d30b8b01",
   "metadata": {},
   "outputs": [],
   "source": [
    "# Make predictions\n",
    "y_pred = rf_model.predict(X_test)"
   ]
  },
  {
   "cell_type": "code",
   "execution_count": null,
   "id": "1e4f9433",
   "metadata": {},
   "outputs": [],
   "source": [
    "# Generate classification report\n",
    "print(classification_report(y_test, y_pred, zero_division=1))\n",
    "\n",
    "# Display confusion matrix\n",
    "print(confusion_matrix(y_test, y_pred))"
   ]
  },
  {
   "cell_type": "code",
   "execution_count": null,
   "id": "b6273495",
   "metadata": {},
   "outputs": [],
   "source": [
    "#Attempt Number 3"
   ]
  },
  {
   "cell_type": "code",
   "execution_count": null,
   "id": "69717ad5",
   "metadata": {},
   "outputs": [],
   "source": [
    "# Select features and target\n",
    "X = murder_target[['district_id', 'precinct_id', 'neighborhood_id', 'victim_count']]\n",
    "y = murder_target['murders']"
   ]
  },
  {
   "cell_type": "code",
   "execution_count": null,
   "id": "10e79d3a",
   "metadata": {},
   "outputs": [],
   "source": [
    "# Ensure categorical columns are strings\n",
    "X.loc[:, 'district_id'] = X['district_id'].astype(str)\n",
    "X.loc[:, 'neighborhood_id'] = X['neighborhood_id'].astype(str)\n",
    "\n",
    "# Ensure numerical columns are numeric\n",
    "X.loc[:, 'precinct_id'] = pd.to_numeric(X['precinct_id'], errors='coerce')\n",
    "X.loc[:, 'victim_count'] = pd.to_numeric(X['victim_count'], errors='coerce')"
   ]
  },
  {
   "cell_type": "code",
   "execution_count": null,
   "id": "90a097c0",
   "metadata": {},
   "outputs": [],
   "source": [
    "# Handle missing values\n",
    "X = X.fillna(-1)"
   ]
  },
  {
   "cell_type": "code",
   "execution_count": null,
   "id": "aae1a2a5",
   "metadata": {},
   "outputs": [],
   "source": [
    "# One-hot encode categorical features\n",
    "categorical_features = ['district_id', 'neighborhood_id']\n",
    "numerical_features = ['precinct_id', 'victim_count']\n",
    "\n",
    "preprocessor = ColumnTransformer(\n",
    "    transformers=[\n",
    "        ('num', 'passthrough', numerical_features),\n",
    "        ('cat', OneHotEncoder(handle_unknown='ignore'), categorical_features)\n",
    "    ]\n",
    ")"
   ]
  },
  {
   "cell_type": "code",
   "execution_count": null,
   "id": "66975aff",
   "metadata": {},
   "outputs": [],
   "source": [
    "# Create a pipeline for preprocessing\n",
    "preprocessing_pipeline = Pipeline(steps=[\n",
    "    ('preprocessor', preprocessor)\n",
    "])"
   ]
  },
  {
   "cell_type": "code",
   "execution_count": null,
   "id": "6ba2b70c",
   "metadata": {},
   "outputs": [],
   "source": [
    "# Preprocess the data\n",
    "X_preprocessed = preprocessing_pipeline.fit_transform(X)\n",
    "\n",
    "# Apply SMOTE to the preprocessed data\n",
    "smote = SMOTE(random_state=42)\n",
    "X_resampled, y_resampled = smote.fit_resample(X_preprocessed, y)\n",
    "\n",
    "# Split the resampled data\n",
    "X_train, X_test, y_train, y_test = train_test_split(X_resampled, y_resampled, test_size=0.2, random_state=42)\n",
    "\n",
    "# Train the model\n",
    "model = RandomForestClassifier(random_state=42, class_weight={0: 1, 1: 10})\n",
    "model.fit(X_train, y_train)"
   ]
  },
  {
   "cell_type": "code",
   "execution_count": null,
   "id": "0c3b464b",
   "metadata": {},
   "outputs": [],
   "source": [
    "# Make predictions\n",
    "y_pred = model.predict(X_test)"
   ]
  },
  {
   "cell_type": "code",
   "execution_count": null,
   "id": "bad7972c",
   "metadata": {},
   "outputs": [],
   "source": [
    "# Generate classification report\n",
    "print(classification_report(y_test, y_pred, zero_division=1))\n",
    "\n",
    "# Display confusion matrix\n",
    "print(confusion_matrix(y_test, y_pred))\n"
   ]
  },
  {
   "cell_type": "code",
   "execution_count": null,
   "id": "658ac14a",
   "metadata": {},
   "outputs": [],
   "source": [
    "#Attempt #4"
   ]
  },
  {
   "cell_type": "code",
   "execution_count": null,
   "id": "2c0bfa18",
   "metadata": {},
   "outputs": [],
   "source": [
    "# Select features and target\n",
    "X = murder_target[['district_id', 'precinct_id', 'neighborhood_id', 'victim_count']]\n",
    "y = murder_target['murders']"
   ]
  },
  {
   "cell_type": "code",
   "execution_count": null,
   "id": "e19b4055",
   "metadata": {},
   "outputs": [],
   "source": [
    "# Ensure categorical columns are strings\n",
    "X['district_id'] = X['district_id'].astype(str)\n",
    "X['neighborhood_id'] = X['neighborhood_id'].astype(str)\n",
    "\n",
    "# Ensure numerical columns are numeric\n",
    "X['precinct_id'] = pd.to_numeric(X['precinct_id'], errors='coerce')\n",
    "X['victim_count'] = pd.to_numeric(X['victim_count'], errors='coerce')"
   ]
  },
  {
   "cell_type": "code",
   "execution_count": null,
   "id": "8c6f8327",
   "metadata": {},
   "outputs": [],
   "source": [
    "# Handle missing values\n",
    "X = X.fillna(-1)\n",
    "\n",
    "# One-hot encode categorical features\n",
    "categorical_features = ['district_id', 'neighborhood_id']\n",
    "numerical_features = ['precinct_id', 'victim_count']\n",
    "\n",
    "preprocessor = ColumnTransformer(\n",
    "    transformers=[\n",
    "        ('num', 'passthrough', numerical_features),\n",
    "        ('cat', OneHotEncoder(handle_unknown='ignore'), categorical_features)\n",
    "    ]\n",
    ")"
   ]
  },
  {
   "cell_type": "code",
   "execution_count": null,
   "id": "27b3ced6",
   "metadata": {},
   "outputs": [],
   "source": [
    "# Create a pipeline for preprocessing\n",
    "preprocessing_pipeline = Pipeline(steps=[\n",
    "    ('preprocessor', preprocessor)\n",
    "])\n",
    "\n",
    "# Preprocess the data\n",
    "X_preprocessed = preprocessing_pipeline.fit_transform(X)\n",
    "\n",
    "# Apply SMOTETomek to the preprocessed data\n",
    "smotetomek = SMOTETomek(random_state=42)\n",
    "X_resampled, y_resampled = smotetomek.fit_resample(X_preprocessed, y)"
   ]
  },
  {
   "cell_type": "code",
   "execution_count": null,
   "id": "0474cb51",
   "metadata": {},
   "outputs": [],
   "source": [
    "# Split the resampled data\n",
    "X_train, X_test, y_train, y_test = train_test_split(X_resampled, y_resampled, test_size=0.2, random_state=42)\n",
    "\n",
    "# Set up the parameter grid for hyperparameter tuning\n",
    "param_grid = {\n",
    "    'n_estimators': [100, 200, 300],\n",
    "    'max_depth': [10, 20, 30],\n",
    "    'min_samples_split': [2, 5, 10],\n",
    "    'min_samples_leaf': [1, 2, 4],\n",
    "    'class_weight': [{0: 1, 1: 10}, 'balanced']\n",
    "}"
   ]
  },
  {
   "cell_type": "code",
   "execution_count": null,
   "id": "5ad64046",
   "metadata": {},
   "outputs": [],
   "source": [
    "# Create a GridSearchCV object\n",
    "grid_search = GridSearchCV(estimator=RandomForestClassifier(random_state=42),\n",
    "                           param_grid=param_grid,\n",
    "                           cv=3,\n",
    "                           n_jobs=-1,\n",
    "                           scoring='f1')\n",
    "\n",
    "# Fit the model\n",
    "grid_search.fit(X_train, y_train)\n",
    "\n",
    "# Make predictions\n",
    "y_pred = grid_search.best_estimator_.predict(X_test)"
   ]
  },
  {
   "cell_type": "code",
   "execution_count": null,
   "id": "668efa8f",
   "metadata": {},
   "outputs": [],
   "source": [
    "# Generate classification report\n",
    "print(classification_report(y_test, y_pred, zero_division=1))\n",
    "\n",
    "# Display confusion matrix\n",
    "print(confusion_matrix(y_test, y_pred))"
   ]
  },
  {
   "cell_type": "code",
   "execution_count": null,
   "id": "9696b1a1",
   "metadata": {},
   "outputs": [],
   "source": [
    "#Attempt #5   Using the kappa & matthews method "
   ]
  },
  {
   "cell_type": "code",
   "execution_count": null,
   "id": "3e076b5f",
   "metadata": {},
   "outputs": [],
   "source": [
    "# Select features and target\n",
    "X = murder_target[['district_id', 'precinct_id', 'neighborhood_id', 'victim_count']].copy()\n",
    "y = murder_target['murders']"
   ]
  },
  {
   "cell_type": "code",
   "execution_count": null,
   "id": "fe64c4d9",
   "metadata": {},
   "outputs": [],
   "source": [
    "# Ensure categorical columns are strings\n",
    "X.loc[:, 'district_id'] = X['district_id'].astype(str)\n",
    "X.loc[:, 'neighborhood_id'] = X['neighborhood_id'].astype(str)\n",
    "\n",
    "# Ensure numerical columns are numeric\n",
    "X.loc[:, 'precinct_id'] = pd.to_numeric(X['precinct_id'], errors='coerce')\n",
    "X.loc[:, 'victim_count'] = pd.to_numeric(X['victim_count'], errors='coerce')\n",
    "\n",
    "# Handle missing values\n",
    "X = X.fillna(-1)"
   ]
  },
  {
   "cell_type": "code",
   "execution_count": null,
   "id": "49d6daa1",
   "metadata": {},
   "outputs": [],
   "source": [
    "# One-hot encode categorical features\n",
    "categorical_features = ['district_id', 'neighborhood_id']\n",
    "numerical_features = ['precinct_id', 'victim_count']\n",
    "\n",
    "preprocessor = ColumnTransformer(\n",
    "    transformers=[\n",
    "        ('num', 'passthrough', numerical_features),\n",
    "        ('cat', OneHotEncoder(handle_unknown='ignore'), categorical_features)\n",
    "    ]\n",
    ")"
   ]
  },
  {
   "cell_type": "code",
   "execution_count": null,
   "id": "a33a0bba",
   "metadata": {},
   "outputs": [],
   "source": [
    "# Create a pipeline for preprocessing\n",
    "preprocessing_pipeline = Pipeline(steps=[\n",
    "    ('preprocessor', preprocessor)\n",
    "])\n",
    "\n",
    "# Sample a subset of data (e.g., 10%)\n",
    "X_sampled = X.sample(frac=0.1, random_state=42)\n",
    "y_sampled = y[X_sampled.index]"
   ]
  },
  {
   "cell_type": "code",
   "execution_count": null,
   "id": "08c17cd3",
   "metadata": {},
   "outputs": [],
   "source": [
    "# Check memory usage\n",
    "print(f\"Original data size: {X.memory_usage(deep=True).sum() / (1024**2):.2f} MB\")\n",
    "print(f\"Sampled data size: {X_sampled.memory_usage(deep=True).sum() / (1024**2):.2f} MB\")\n",
    "\n",
    "# Preprocess the sampled data\n",
    "X_preprocessed_sampled = preprocessing_pipeline.fit_transform(X_sampled)\n",
    "print(\"Preprocessing done\")"
   ]
  },
  {
   "cell_type": "code",
   "execution_count": null,
   "id": "7637e265",
   "metadata": {},
   "outputs": [],
   "source": [
    "# Adjust SMOTETomek parameters for efficiency\n",
    "smotetomek = SMOTETomek(random_state=42, n_jobs=-1, sampling_strategy='auto')\n",
    "\n",
    "# Apply SMOTETomek to the sampled data\n",
    "X_resampled_sampled, y_resampled_sampled = smotetomek.fit_resample(X_preprocessed_sampled, y_sampled)\n",
    "print(\"Resampling done with sampled data\")"
   ]
  },
  {
   "cell_type": "code",
   "execution_count": null,
   "id": "1ee792da",
   "metadata": {},
   "outputs": [],
   "source": [
    "# Split the resampled sampled data\n",
    "X_train, X_test, y_train, y_test = train_test_split(X_resampled_sampled, y_resampled_sampled, test_size=0.2, random_state=42)\n",
    "print(\"Train-test split done\")"
   ]
  },
  {
   "cell_type": "code",
   "execution_count": null,
   "id": "6decea23",
   "metadata": {},
   "outputs": [],
   "source": [
    "# Set up a simplified parameter grid for hyperparameter tuning\n",
    "param_grid = {\n",
    "    'n_estimators': [100],\n",
    "    'max_depth': [10],\n",
    "    'min_samples_split': [2],\n",
    "    'min_samples_leaf': [1],\n",
    "    'class_weight': ['balanced']\n",
    "}\n",
    "\n",
    "# Create a GridSearchCV object\n",
    "grid_search = GridSearchCV(estimator=RandomForestClassifier(random_state=42),\n",
    "                           param_grid=param_grid,\n",
    "                           cv=3,\n",
    "                           n_jobs=-1,\n",
    "                           scoring='f1')\n",
    "\n",
    "# Fit the model\n",
    "grid_search.fit(X_train, y_train)\n",
    "print(\"Grid search done\")"
   ]
  },
  {
   "cell_type": "code",
   "execution_count": null,
   "id": "b09c51fb",
   "metadata": {},
   "outputs": [],
   "source": [
    "# Make predictions\n",
    "y_pred = grid_search.best_estimator_.predict(X_test)"
   ]
  },
  {
   "cell_type": "code",
   "execution_count": null,
   "id": "8322bb67",
   "metadata": {},
   "outputs": [],
   "source": [
    "# Generate classification report\n",
    "print(classification_report(y_test, y_pred, zero_division=1))\n",
    "\n",
    "# Display confusion matrix\n",
    "print(confusion_matrix(y_test, y_pred))\n",
    "\n",
    "# Calculate Matthews Correlation Coefficient (MCC)\n",
    "mcc = matthews_corrcoef(y_test, y_pred)\n",
    "print(f\"Matthews Correlation Coefficient (MCC): {mcc}\")\n",
    "\n",
    "# Calculate Cohen's Kappa\n",
    "kappa = cohen_kappa_score(y_test, y_pred)\n",
    "print(f\"Cohen's Kappa: {kappa}\")"
   ]
  },
  {
   "cell_type": "code",
   "execution_count": null,
   "id": "47d7b7be",
   "metadata": {},
   "outputs": [],
   "source": []
  }
 ],
 "metadata": {
  "kernelspec": {
   "display_name": "Python 3 (ipykernel)",
   "language": "python",
   "name": "python3"
  },
  "language_info": {
   "codemirror_mode": {
    "name": "ipython",
    "version": 3
   },
   "file_extension": ".py",
   "mimetype": "text/x-python",
   "name": "python",
   "nbconvert_exporter": "python",
   "pygments_lexer": "ipython3",
   "version": "3.10.13"
  }
 },
 "nbformat": 4,
 "nbformat_minor": 5
}
